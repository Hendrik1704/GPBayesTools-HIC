{
 "cells": [
  {
   "cell_type": "code",
   "execution_count": 1,
   "metadata": {},
   "outputs": [],
   "source": [
    "%matplotlib inline\n",
    "\n",
    "from os import path\n",
    "import os\n",
    "import sys\n",
    "sys.path.insert(0, path.abspath('../'))\n",
    "\n",
    "from src.mcmc import Chain"
   ]
  },
  {
   "cell_type": "code",
   "execution_count": null,
   "metadata": {},
   "outputs": [],
   "source": [
    "exp_path = \"./separate_training_posterior_data/example_data_test.pkl\"\n",
    "model_par = \"../data/modelDesign_3DMCGlauber.txt\"\n",
    "mymcmc = Chain(expdata_path=exp_path, model_parafile=model_par)\n"
   ]
  },
  {
   "cell_type": "code",
   "execution_count": null,
   "metadata": {},
   "outputs": [],
   "source": [
    "folder = \"./emulators_full_trained/trained_emulators_PCA/\"\n",
    "emuPathList = [folder+\"AuAu200_dNdy_train_PCSK_trained.sav\",\n",
    "               folder+\"AuAu200_PHOBOSdNdeta_train_PCSK_trained.sav\",\n",
    "               folder+\"AuAu200_PHOBOSv2eta_train_PCSK_trained.sav\",\n",
    "               folder+\"AuAu200_pTvn_train_PCSK_trained.sav\",\n",
    "               folder+\"AuAu19p6_dNdy_train_PCSK_trained.sav\",\n",
    "               folder+\"AuAu19p6_PHOBOSdNdeta_train_PCSK_trained.sav\",\n",
    "               folder+\"AuAu19p6_pTvn_train_PCSK_trained.sav\",\n",
    "               folder+\"AuAu7.7_dNdy_train_PCSK_trained.sav\",\n",
    "               folder+\"AuAu7.7_pTvn_train_PCSK_trained.sav\",\n",
    "               ]\n",
    "mymcmc.loadEmulator(emuPathList)"
   ]
  },
  {
   "cell_type": "code",
   "execution_count": null,
   "metadata": {},
   "outputs": [],
   "source": [
    "# read the chain.pkl file and print the shape of the chain and the likelihood\n",
    "import pickle\n",
    "with open(\"./mcmc/chain.pkl\", \"rb\") as f:\n",
    "    chain = pickle.load(f)\n",
    "    print(chain['chain'].shape)\n",
    "    print(chain['log_likelihood'].shape)"
   ]
  },
  {
   "cell_type": "code",
   "execution_count": null,
   "metadata": {},
   "outputs": [],
   "source": [
    "os.environ[\"OMP_NUM_THREADS\"] = \"1\"\n",
    "# may have to: export RDMAV_FORK_SAFE=1 before running the code\n",
    "\n",
    "n_effective=8000\n",
    "n_active=4000\n",
    "n_prior=16000\n",
    "sample=\"tpcn\"\n",
    "n_max_steps=100\n",
    "random_state=42\n",
    "\n",
    "n_total = 50000\n",
    "n_evidence = 50000\n",
    "\n",
    "pool = 12\n",
    "\n",
    "sampler = mymcmc.run_pocoMC(n_effective=n_effective, n_active=n_active,\n",
    "                            n_prior=n_prior, sample=sample,\n",
    "                            n_max_steps=n_max_steps, random_state=random_state,\n",
    "                            n_total=n_total, n_evidence=n_evidence, pool=pool)\n"
   ]
  },
  {
   "cell_type": "code",
   "execution_count": null,
   "metadata": {},
   "outputs": [],
   "source": [
    "nsteps = 1000\n",
    "nwalkers = 100\n",
    "nburnsteps = 7000\n",
    "status = None\n",
    "nthin = 2\n",
    "sampler = mymcmc.run_mcmc(nsteps=nsteps, nburnsteps=nburnsteps,\n",
    "                          nwalkers=nwalkers, status=status, nthin=nthin,\n",
    "                          skip_initial_state_check=True)"
   ]
  },
  {
   "cell_type": "code",
   "execution_count": null,
   "metadata": {},
   "outputs": [],
   "source": [
    "nsteps = 1000\n",
    "nwalkers = 100\n",
    "nburnsteps = 7000\n",
    "status = True\n",
    "nthin = 2\n",
    "ntemps = 30\n",
    "\n",
    "sampler = mymcmc.run_MCMC_ptemcee(nsteps=nsteps, nburnsteps=nburnsteps,\n",
    "                          nwalkers=nwalkers, status=status, nthin=nthin, ntemps=ntemps, nthreads=1)"
   ]
  },
  {
   "cell_type": "code",
   "execution_count": null,
   "metadata": {},
   "outputs": [],
   "source": [
    "nsteps=1000\n",
    "nwalkers=100\n",
    "ntemps=30\n",
    "maxtemp=100\n",
    "nstartparameters = 7000\n",
    "\n",
    "sampler = mymcmc.run_MCMC_PTLMC(nsteps=nsteps, nwalkers=nwalkers, ntemps=ntemps, maxtemp=maxtemp, nstartparameters=nstartparameters)"
   ]
  },
  {
   "cell_type": "code",
   "execution_count": null,
   "metadata": {},
   "outputs": [],
   "source": [
    "exp_path = \"./separate_training_posterior_data/example_data_test.pkl\"\n",
    "model_par = \"../data/modelDesign_3DMCGlauber.txt\"\n",
    "mymcmc = Chain(expdata_path=exp_path, model_parafile=model_par)\n",
    "\n",
    "folder = \"./test_PTEMCEE/\"\n",
    "emuPathList = [folder+\"AuAu200_dNdy_train_PCA_noLOG_PCSK_trained.sav\",\n",
    "               folder+\"AuAu200_PHOBOSdNdeta_train_PCA_noLOG_PCSK_trained.sav\",\n",
    "               folder+\"AuAu200_PHOBOSv2eta_train_PCA_noLOG_PCSK_trained.sav\",\n",
    "               folder+\"AuAu200_pTvn_train_PCA_noLOG_PCSK_trained.sav\",\n",
    "               folder+\"AuAu19p6_dNdy_train_PCA_noLOG_PCSK_trained.sav\",\n",
    "               folder+\"AuAu19p6_PHOBOSdNdeta_train_PCA_noLOG_PCSK_trained.sav\",\n",
    "               folder+\"AuAu19p6_pTvn_train_PCA_noLOG_PCSK_trained.sav\",\n",
    "               folder+\"AuAu7.7_dNdy_train_PCA_noLOG_PCSK_trained.sav\",\n",
    "               folder+\"AuAu7.7_pTvn_train_PCA_noLOG_PCSK_trained.sav\",\n",
    "               ]\n",
    "mymcmc.loadEmulator(emuPathList)\n",
    "\n",
    "nsteps = 1000\n",
    "nwalkers = 100\n",
    "nburnsteps = 7000\n",
    "status = True\n",
    "nthin = 2\n",
    "ntemps = 20\n",
    "\n",
    "sampler = mymcmc.run_MCMC_ptemcee(nsteps=nsteps, nburnsteps=nburnsteps,\n",
    "        nwalkers=nwalkers, status=status, nthin=nthin, ntemps=ntemps, nthreads=1)"
   ]
  },
  {
   "cell_type": "code",
   "execution_count": null,
   "metadata": {},
   "outputs": [],
   "source": []
  }
 ],
 "metadata": {
  "kernelspec": {
   "display_name": "Python 3",
   "language": "python",
   "name": "python3"
  },
  "language_info": {
   "codemirror_mode": {
    "name": "ipython",
    "version": 3
   },
   "file_extension": ".py",
   "mimetype": "text/x-python",
   "name": "python",
   "nbconvert_exporter": "python",
   "pygments_lexer": "ipython3",
   "version": "3.10.12"
  }
 },
 "nbformat": 4,
 "nbformat_minor": 2
}
