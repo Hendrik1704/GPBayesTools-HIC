{
 "cells": [
  {
   "cell_type": "code",
   "execution_count": null,
   "metadata": {},
   "outputs": [],
   "source": [
    "%matplotlib inline\n",
    "\n",
    "import logging\n",
    "\n",
    "import emcee\n",
    "import h5py\n",
    "import numpy as np\n",
    "import matplotlib.pyplot as plt\n",
    "\n",
    "from os import path\n",
    "from glob import glob\n",
    "import sys\n",
    "sys.path.insert(0, path.abspath('./'))\n",
    "\n",
    "from src import workdir, parse_model_parameter_file\n",
    "from src.emulator_BAND import EmulatorBAND"
   ]
  },
  {
   "cell_type": "code",
   "execution_count": null,
   "metadata": {},
   "outputs": [],
   "source": [
    "model_par = \"../data/modelDesign_3DMCGlauber.txt\"\n",
    "training_set = \"../data/AuAu7.7_dNdy.pkl\"\n",
    "emu = EmulatorBAND(training_set, model_par, npc=3)"
   ]
  },
  {
   "cell_type": "code",
   "execution_count": null,
   "metadata": {},
   "outputs": [],
   "source": [
    "# this generates an error at the moment!!!\n",
    "#emu.trainEmulator(900)\n",
    "\n",
    "#mu, cov = emu.predict()\n",
    "#print(mu)\n",
    "#print(cov)"
   ]
  },
  {
   "cell_type": "code",
   "execution_count": null,
   "metadata": {},
   "outputs": [],
   "source": [
    "output = emu.testEmulatorErrors(number_test_points=1, number_iterations=1)\n",
    "print(output)"
   ]
  }
 ],
 "metadata": {
  "kernelspec": {
   "display_name": "Python 3",
   "language": "python",
   "name": "python3"
  },
  "language_info": {
   "codemirror_mode": {
    "name": "ipython",
    "version": 3
   },
   "file_extension": ".py",
   "mimetype": "text/x-python",
   "name": "python",
   "nbconvert_exporter": "python",
   "pygments_lexer": "ipython3",
   "version": "3.10.12"
  }
 },
 "nbformat": 4,
 "nbformat_minor": 2
}
