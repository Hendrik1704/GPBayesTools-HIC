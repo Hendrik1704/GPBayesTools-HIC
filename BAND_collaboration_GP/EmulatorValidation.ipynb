{
 "cells": [
  {
   "cell_type": "code",
   "execution_count": null,
   "metadata": {},
   "outputs": [],
   "source": [
    "%matplotlib inline\n",
    "\n",
    "import logging\n",
    "\n",
    "import emcee\n",
    "import h5py\n",
    "import numpy as np\n",
    "import matplotlib.pyplot as plt\n",
    "\n",
    "from os import path\n",
    "from glob import glob\n",
    "import sys\n",
    "sys.path.insert(0, path.abspath('./'))\n",
    "\n",
    "from src import workdir, parse_model_parameter_file\n",
    "from src.emulator_BAND import EmulatorBAND"
   ]
  },
  {
   "cell_type": "code",
   "execution_count": null,
   "metadata": {},
   "outputs": [],
   "source": [
    "model_par = \"../data/modelDesign_3DMCGlauber.txt\"\n",
    "training_set = \"../data/AuAu7.7_dNdy.pkl\"\n",
    "emu = EmulatorBAND(training_set, model_par, npc=3, logFlag=False)#npc is dummy here"
   ]
  },
  {
   "cell_type": "code",
   "execution_count": null,
   "metadata": {},
   "outputs": [],
   "source": [
    "output = emu.testEmulatorErrors(number_test_points=400, number_iterations=1)\n",
    "\n",
    "emu_pred = output[0]\n",
    "emu_pred_err = output[1]\n",
    "vali_data = output[2]\n",
    "vali_data_err = output[3]"
   ]
  },
  {
   "cell_type": "code",
   "execution_count": null,
   "metadata": {},
   "outputs": [],
   "source": [
    "nValidationPoints, nObs = vali_data.shape\n",
    "\n",
    "for obsIdx in range(nObs):\n",
    "    fig = plt.figure()\n",
    "    ax = plt.axes([0.12, 0.12, 0.83, 0.83])\n",
    "    plt.errorbar(vali_data[:, obsIdx], emu_pred[:, obsIdx],\n",
    "                 yerr=emu_pred_err[:, obsIdx],\n",
    "                 xerr=vali_data_err[:, obsIdx],\n",
    "                 marker=\"o\", linestyle=\"\")\n",
    "    plt.plot([-200, 200], [-200, 200], '--k')\n",
    "    plt.xlim([vali_data[:, obsIdx].min() - 1,\n",
    "              vali_data[:, obsIdx].max() + 1])\n",
    "    plt.ylim([emu_pred[:, obsIdx].min() - 1,\n",
    "              emu_pred[:, obsIdx].max() + 1])\n",
    "    ax.set_aspect('equal')\n",
    "    plt.text(vali_data[:, obsIdx].min(),\n",
    "             emu_pred[:, obsIdx].max(),\n",
    "             \"obs {}\".format(obsIdx), fontsize=20)\n",
    "    plt.xlabel(\"truth\")\n",
    "    plt.ylabel(\"emulator results\")"
   ]
  },
  {
   "cell_type": "code",
   "execution_count": null,
   "metadata": {},
   "outputs": [],
   "source": [
    "nValidationPoints, nObs = vali_data.shape\n",
    "\n",
    "for obsIdx in range(nObs):\n",
    "    fig = plt.figure()\n",
    "    ax = plt.axes([0.12, 0.12, 0.83, 0.83])\n",
    "    plt.plot(vali_data[:, obsIdx],\n",
    "             (emu_pred[:, obsIdx] - vali_data[:, obsIdx])\n",
    "             /np.sqrt(vali_data_err[:, obsIdx]**2.\n",
    "                      + emu_pred_err[:, obsIdx]**2.),\n",
    "             marker=\"o\", linestyle=\"\")\n",
    "    plt.fill_between([-20, 20], [2, 2], [-2, -2], color='g', alpha=0.2)\n",
    "    plt.xlim([vali_data[:, obsIdx].min() - 1,\n",
    "              vali_data[:, obsIdx].max() + 1])\n",
    "    plt.ylim([-4, 4])\n",
    "    plt.text(vali_data[:, obsIdx].min(), 3,\n",
    "             \"obs {}\".format(obsIdx), fontsize=20)\n",
    "    plt.xlabel(\"truth\")\n",
    "    plt.ylabel(\"relative diff. [$\\sigma$]\")"
   ]
  },
  {
   "cell_type": "code",
   "execution_count": null,
   "metadata": {},
   "outputs": [],
   "source": [
    "nValidationPoints, nObs = vali_data.shape\n",
    "\n",
    "for obsIdx in range(nObs):\n",
    "    fig = plt.figure()\n",
    "    ax = plt.axes([0.12, 0.12, 0.83, 0.83])\n",
    "    plt.hist((emu_pred[:, obsIdx]-vali_data[:, obsIdx])/emu_pred_err[:, obsIdx], density=True)\n",
    "    #plt.text(0, 3,\"obs {}\".format(obsIdx), fontsize=20)\n",
    "    plt.xlabel(\"A = (GP-truth)/GPerr\")\n",
    "    plt.ylabel(\"p(A)\")"
   ]
  },
  {
   "cell_type": "code",
   "execution_count": null,
   "metadata": {},
   "outputs": [],
   "source": []
  }
 ],
 "metadata": {
  "kernelspec": {
   "display_name": "Python 3",
   "language": "python",
   "name": "python3"
  },
  "language_info": {
   "codemirror_mode": {
    "name": "ipython",
    "version": 3
   },
   "file_extension": ".py",
   "mimetype": "text/x-python",
   "name": "python",
   "nbconvert_exporter": "python",
   "pygments_lexer": "ipython3",
   "version": "3.10.12"
  }
 },
 "nbformat": 4,
 "nbformat_minor": 2
}
