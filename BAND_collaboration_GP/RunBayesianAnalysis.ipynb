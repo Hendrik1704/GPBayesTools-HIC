{
 "cells": [
  {
   "cell_type": "code",
   "execution_count": null,
   "metadata": {},
   "outputs": [],
   "source": [
    "%matplotlib inline\n",
    "\n",
    "import logging\n",
    "\n",
    "import emcee\n",
    "import h5py\n",
    "import numpy as np\n",
    "import matplotlib.pyplot as plt\n",
    "import pickle\n",
    "import dill\n",
    "\n",
    "from os import path\n",
    "import sys\n",
    "sys.path.insert(0, path.abspath('../'))\n",
    "\n",
    "from src import workdir, parse_model_parameter_file\n",
    "from src.emulator import Emulator\n",
    "from src.emulator_BAND import EmulatorBAND\n",
    "from src.mcmc import Chain"
   ]
  },
  {
   "cell_type": "code",
   "execution_count": null,
   "metadata": {},
   "outputs": [],
   "source": [
    "exp_path = \"./separate_training_posterior_data/example_data_test.pkl\"\n",
    "model_par = \"../data/modelDesign_3DMCGlauber.txt\"\n",
    "mymcmc = Chain(expdata_path=exp_path, model_parafile=model_par)\n"
   ]
  },
  {
   "cell_type": "code",
   "execution_count": null,
   "metadata": {},
   "outputs": [],
   "source": [
    "folder = \"./trained_emulators_PCA/\"\n",
    "emuPathList = [folder+\"AuAu200_dNdy_train_PCSK_trained.sav\",\n",
    "               folder+\"AuAu200_PHOBOSdNdeta_train_PCSK_trained.sav\",\n",
    "               folder+\"AuAu200_PHOBOSv2eta_train_PCSK_trained.sav\",\n",
    "               folder+\"AuAu200_pTvn_train_PCSK_trained.sav\",\n",
    "               folder+\"AuAu19p6_dNdy_train_PCSK_trained.sav\",\n",
    "               folder+\"AuAu19p6_PHOBOSdNdeta_train_PCSK_trained.sav\",\n",
    "               folder+\"AuAu19p6_pTvn_train_PCSK_trained.sav\",\n",
    "               folder+\"AuAu7.7_dNdy_train_PCSK_trained.sav\",\n",
    "               folder+\"AuAu7.7_pTvn_train_PCSK_trained.sav\",\n",
    "               ]\n",
    "mymcmc.loadEmulator(emuPathList)"
   ]
  },
  {
   "cell_type": "code",
   "execution_count": null,
   "metadata": {},
   "outputs": [],
   "source": [
    "nsteps = 5000\n",
    "nwalkers = 1000\n",
    "nburnsteps = 10000\n",
    "status = None\n",
    "nthin = 5\n",
    "sampler = mymcmc.run_mcmc(nsteps=nsteps, nburnsteps=nburnsteps,\n",
    "                          nwalkers=nwalkers, status=status, nthin=nthin)"
   ]
  },
  {
   "cell_type": "code",
   "execution_count": null,
   "metadata": {},
   "outputs": [],
   "source": []
  }
 ],
 "metadata": {
  "kernelspec": {
   "display_name": "Python 3",
   "language": "python",
   "name": "python3"
  },
  "language_info": {
   "codemirror_mode": {
    "name": "ipython",
    "version": 3
   },
   "file_extension": ".py",
   "mimetype": "text/x-python",
   "name": "python",
   "nbconvert_exporter": "python",
   "pygments_lexer": "ipython3",
   "version": "3.10.12"
  }
 },
 "nbformat": 4,
 "nbformat_minor": 2
}
